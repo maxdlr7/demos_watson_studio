{
    "nbformat_minor": 1, 
    "cells": [
        {
            "source": "### Connect to the database \nLet us first load the SQL extension and establish a connection with the database", 
            "cell_type": "markdown", 
            "metadata": {}
        }, 
        {
            "execution_count": 1, 
            "cell_type": "code", 
            "metadata": {}, 
            "outputs": [], 
            "source": "%load_ext sql"
        }, 
        {
            "source": "In the next cell enter your db2 connection string. Recall you created Service Credentials for your Db2 instance in first lab in Week 3. From the __uri__ field of your Db2 service credentials copy everything after db2:// (except the double quote at the end) and paste it in the cell below after ibm_db_sa://\n\n<img src =\"https://ibm.box.com/shared/static/hzhkvdyinpupm2wfx49lkr71q9swbpec.jpg\">", 
            "cell_type": "markdown", 
            "metadata": {}
        }, 
        {
            "execution_count": 2, 
            "cell_type": "code", 
            "metadata": {}, 
            "outputs": [
                {
                    "execution_count": 2, 
                    "metadata": {}, 
                    "data": {
                        "text/plain": "'Connected: vgf22262@BLUDB'"
                    }, 
                    "output_type": "execute_result"
                }
            ], 
            "source": "# The code was removed by Watson Studio for sharing."
        }, 
        {
            "source": "## Problems\nNow write and execute SQL queries to solve assignment problems\n\n### Problem 1\n\n##### Find the total number of crimes recorded in the CRIME table", 
            "cell_type": "markdown", 
            "metadata": {}
        }, 
        {
            "execution_count": 3, 
            "cell_type": "code", 
            "metadata": {}, 
            "outputs": [
                {
                    "output_type": "stream", 
                    "name": "stdout", 
                    "text": " * ibm_db_sa://vgf22262:***@dashdb-txn-sbox-yp-dal09-03.services.dal.bluemix.net:50000/BLUDB\nDone.\n"
                }, 
                {
                    "execution_count": 3, 
                    "metadata": {}, 
                    "data": {
                        "text/html": "<table>\n    <tr>\n        <th>total_crimes</th>\n    </tr>\n    <tr>\n        <td>533</td>\n    </tr>\n</table>", 
                        "text/plain": "[(Decimal('533'),)]"
                    }, 
                    "output_type": "execute_result"
                }
            ], 
            "source": "%sql select count(*) as total_crimes from VGF22262.CRIME"
        }, 
        {
            "source": "### Problem 2\n\n##### Retrieve first 10 rows from the CRIME table", 
            "cell_type": "markdown", 
            "metadata": {}
        }, 
        {
            "execution_count": 4, 
            "cell_type": "code", 
            "metadata": {}, 
            "outputs": [
                {
                    "output_type": "stream", 
                    "name": "stdout", 
                    "text": " * ibm_db_sa://vgf22262:***@dashdb-txn-sbox-yp-dal09-03.services.dal.bluemix.net:50000/BLUDB\nDone.\n"
                }, 
                {
                    "execution_count": 4, 
                    "metadata": {}, 
                    "data": {
                        "text/html": "<table>\n    <tr>\n        <th>id</th>\n        <th>case_number</th>\n        <th>DATE</th>\n        <th>block</th>\n        <th>iucr</th>\n        <th>primary_type</th>\n        <th>description</th>\n        <th>location_description</th>\n        <th>arrest</th>\n        <th>domestic</th>\n        <th>beat</th>\n        <th>district</th>\n        <th>ward</th>\n        <th>community_area_number</th>\n        <th>fbicode</th>\n        <th>x_coordinate</th>\n        <th>y_coordinate</th>\n        <th>YEAR</th>\n        <th>updatedon</th>\n        <th>latitude</th>\n        <th>longitude</th>\n        <th>location</th>\n    </tr>\n    <tr>\n        <td>3512276</td>\n        <td>HK587712</td>\n        <td>08/28/2004 05:50:56 PM</td>\n        <td>047XX S KEDZIE AVE</td>\n        <td>890</td>\n        <td>THEFT</td>\n        <td>FROM BUILDING</td>\n        <td>SMALL RETAIL STORE</td>\n        <td>FALSE</td>\n        <td>FALSE</td>\n        <td>911</td>\n        <td>9</td>\n        <td>14</td>\n        <td>58</td>\n        <td>6</td>\n        <td>1155838</td>\n        <td>1873050</td>\n        <td>2004</td>\n        <td>02/10/2018 03:50:01 PM</td>\n        <td>41.80744050</td>\n        <td>-87.70395585</td>\n        <td>(41.8074405, -87.703955849)</td>\n    </tr>\n    <tr>\n        <td>3406613</td>\n        <td>HK456306</td>\n        <td>06/26/2004 12:40:00 PM</td>\n        <td>009XX N CENTRAL PARK AVE</td>\n        <td>820</td>\n        <td>THEFT</td>\n        <td>$500 AND UNDER</td>\n        <td>OTHER</td>\n        <td>FALSE</td>\n        <td>FALSE</td>\n        <td>1112</td>\n        <td>11</td>\n        <td>27</td>\n        <td>23</td>\n        <td>6</td>\n        <td>1152206</td>\n        <td>1906127</td>\n        <td>2004</td>\n        <td>02/28/2018 03:56:25 PM</td>\n        <td>41.89827996</td>\n        <td>-87.71640551</td>\n        <td>(41.898279962, -87.716405505)</td>\n    </tr>\n    <tr>\n        <td>8002131</td>\n        <td>HT233595</td>\n        <td>04/04/2011 05:45:00 AM</td>\n        <td>043XX S WABASH AVE</td>\n        <td>820</td>\n        <td>THEFT</td>\n        <td>$500 AND UNDER</td>\n        <td>NURSING HOME/RETIREMENT HOME</td>\n        <td>FALSE</td>\n        <td>FALSE</td>\n        <td>221</td>\n        <td>2</td>\n        <td>3</td>\n        <td>38</td>\n        <td>6</td>\n        <td>1177436</td>\n        <td>1876313</td>\n        <td>2011</td>\n        <td>02/10/2018 03:50:01 PM</td>\n        <td>41.81593313</td>\n        <td>-87.62464213</td>\n        <td>(41.815933131, -87.624642127)</td>\n    </tr>\n    <tr>\n        <td>7903289</td>\n        <td>HT133522</td>\n        <td>12/30/2010 04:30:00 PM</td>\n        <td>083XX S KINGSTON AVE</td>\n        <td>840</td>\n        <td>THEFT</td>\n        <td>FINANCIAL ID THEFT: OVER $300</td>\n        <td>RESIDENCE</td>\n        <td>FALSE</td>\n        <td>FALSE</td>\n        <td>423</td>\n        <td>4</td>\n        <td>7</td>\n        <td>46</td>\n        <td>6</td>\n        <td>1194622</td>\n        <td>1850125</td>\n        <td>2010</td>\n        <td>02/10/2018 03:50:01 PM</td>\n        <td>41.74366532</td>\n        <td>-87.56246276</td>\n        <td>(41.743665322, -87.562462756)</td>\n    </tr>\n    <tr>\n        <td>10402076</td>\n        <td>HZ138551</td>\n        <td>02/02/2016 07:30:00 PM</td>\n        <td>033XX W 66TH ST</td>\n        <td>820</td>\n        <td>THEFT</td>\n        <td>$500 AND UNDER</td>\n        <td>ALLEY</td>\n        <td>FALSE</td>\n        <td>FALSE</td>\n        <td>831</td>\n        <td>8</td>\n        <td>15</td>\n        <td>66</td>\n        <td>6</td>\n        <td>1155240</td>\n        <td>1860661</td>\n        <td>2016</td>\n        <td>02/10/2018 03:50:01 PM</td>\n        <td>41.77345530</td>\n        <td>-87.70648047</td>\n        <td>(41.773455295, -87.706480471)</td>\n    </tr>\n    <tr>\n        <td>7732712</td>\n        <td>HS540106</td>\n        <td>09/29/2010 07:59:00 AM</td>\n        <td>006XX W CHICAGO AVE</td>\n        <td>810</td>\n        <td>THEFT</td>\n        <td>OVER $500</td>\n        <td>PARKING LOT/GARAGE(NON.RESID.)</td>\n        <td>FALSE</td>\n        <td>FALSE</td>\n        <td>1323</td>\n        <td>12</td>\n        <td>27</td>\n        <td>24</td>\n        <td>6</td>\n        <td>1171668</td>\n        <td>1905607</td>\n        <td>2010</td>\n        <td>02/10/2018 03:50:01 PM</td>\n        <td>41.89644677</td>\n        <td>-87.64493868</td>\n        <td>(41.896446772, -87.644938678)</td>\n    </tr>\n    <tr>\n        <td>10769475</td>\n        <td>HZ534771</td>\n        <td>11/30/2016 01:15:00 AM</td>\n        <td>050XX N KEDZIE AVE</td>\n        <td>810</td>\n        <td>THEFT</td>\n        <td>OVER $500</td>\n        <td>STREET</td>\n        <td>FALSE</td>\n        <td>FALSE</td>\n        <td>1713</td>\n        <td>17</td>\n        <td>33</td>\n        <td>14</td>\n        <td>6</td>\n        <td>1154133</td>\n        <td>1933314</td>\n        <td>2016</td>\n        <td>02/10/2018 03:50:01 PM</td>\n        <td>41.97284491</td>\n        <td>-87.70860008</td>\n        <td>(41.972844913, -87.708600079)</td>\n    </tr>\n    <tr>\n        <td>4494340</td>\n        <td>HL793243</td>\n        <td>12/16/2005 04:45:00 PM</td>\n        <td>005XX E PERSHING RD</td>\n        <td>860</td>\n        <td>THEFT</td>\n        <td>RETAIL THEFT</td>\n        <td>GROCERY FOOD STORE</td>\n        <td>TRUE</td>\n        <td>FALSE</td>\n        <td>213</td>\n        <td>2</td>\n        <td>3</td>\n        <td>38</td>\n        <td>6</td>\n        <td>1180448</td>\n        <td>1879234</td>\n        <td>2005</td>\n        <td>02/28/2018 03:56:25 PM</td>\n        <td>41.82387989</td>\n        <td>-87.61350386</td>\n        <td>(41.823879885, -87.613503857)</td>\n    </tr>\n    <tr>\n        <td>3778925</td>\n        <td>HL149610</td>\n        <td>01/28/2005 05:00:00 PM</td>\n        <td>100XX S WASHTENAW AVE</td>\n        <td>810</td>\n        <td>THEFT</td>\n        <td>OVER $500</td>\n        <td>STREET</td>\n        <td>FALSE</td>\n        <td>FALSE</td>\n        <td>2211</td>\n        <td>22</td>\n        <td>19</td>\n        <td>72</td>\n        <td>6</td>\n        <td>1160129</td>\n        <td>1838040</td>\n        <td>2005</td>\n        <td>02/28/2018 03:56:25 PM</td>\n        <td>41.71128051</td>\n        <td>-87.68917910</td>\n        <td>(41.711280513, -87.689179097)</td>\n    </tr>\n    <tr>\n        <td>3324217</td>\n        <td>HK361551</td>\n        <td>05/13/2004 02:15:00 PM</td>\n        <td>033XX W BELMONT AVE</td>\n        <td>820</td>\n        <td>THEFT</td>\n        <td>$500 AND UNDER</td>\n        <td>SMALL RETAIL STORE</td>\n        <td>FALSE</td>\n        <td>FALSE</td>\n        <td>1733</td>\n        <td>17</td>\n        <td>35</td>\n        <td>21</td>\n        <td>6</td>\n        <td>1153590</td>\n        <td>1921084</td>\n        <td>2004</td>\n        <td>02/28/2018 03:56:25 PM</td>\n        <td>41.93929582</td>\n        <td>-87.71092344</td>\n        <td>(41.939295821, -87.710923442)</td>\n    </tr>\n</table>", 
                        "text/plain": "[(3512276, 'HK587712', '08/28/2004 05:50:56 PM', '047XX S KEDZIE AVE', '890', 'THEFT', 'FROM BUILDING', 'SMALL RETAIL STORE', 'FALSE', 'FALSE', 911, 9, 14, 58, '6', 1155838, 1873050, 2004, '02/10/2018 03:50:01 PM', Decimal('41.80744050'), Decimal('-87.70395585'), '(41.8074405, -87.703955849)'),\n (3406613, 'HK456306', '06/26/2004 12:40:00 PM', '009XX N CENTRAL PARK AVE', '820', 'THEFT', '$500 AND UNDER', 'OTHER', 'FALSE', 'FALSE', 1112, 11, 27, 23, '6', 1152206, 1906127, 2004, '02/28/2018 03:56:25 PM', Decimal('41.89827996'), Decimal('-87.71640551'), '(41.898279962, -87.716405505)'),\n (8002131, 'HT233595', '04/04/2011 05:45:00 AM', '043XX S WABASH AVE', '820', 'THEFT', '$500 AND UNDER', 'NURSING HOME/RETIREMENT HOME', 'FALSE', 'FALSE', 221, 2, 3, 38, '6', 1177436, 1876313, 2011, '02/10/2018 03:50:01 PM', Decimal('41.81593313'), Decimal('-87.62464213'), '(41.815933131, -87.624642127)'),\n (7903289, 'HT133522', '12/30/2010 04:30:00 PM', '083XX S KINGSTON AVE', '840', 'THEFT', 'FINANCIAL ID THEFT: OVER $300', 'RESIDENCE', 'FALSE', 'FALSE', 423, 4, 7, 46, '6', 1194622, 1850125, 2010, '02/10/2018 03:50:01 PM', Decimal('41.74366532'), Decimal('-87.56246276'), '(41.743665322, -87.562462756)'),\n (10402076, 'HZ138551', '02/02/2016 07:30:00 PM', '033XX W 66TH ST', '820', 'THEFT', '$500 AND UNDER', 'ALLEY', 'FALSE', 'FALSE', 831, 8, 15, 66, '6', 1155240, 1860661, 2016, '02/10/2018 03:50:01 PM', Decimal('41.77345530'), Decimal('-87.70648047'), '(41.773455295, -87.706480471)'),\n (7732712, 'HS540106', '09/29/2010 07:59:00 AM', '006XX W CHICAGO AVE', '810', 'THEFT', 'OVER $500', 'PARKING LOT/GARAGE(NON.RESID.)', 'FALSE', 'FALSE', 1323, 12, 27, 24, '6', 1171668, 1905607, 2010, '02/10/2018 03:50:01 PM', Decimal('41.89644677'), Decimal('-87.64493868'), '(41.896446772, -87.644938678)'),\n (10769475, 'HZ534771', '11/30/2016 01:15:00 AM', '050XX N KEDZIE AVE', '810', 'THEFT', 'OVER $500', 'STREET', 'FALSE', 'FALSE', 1713, 17, 33, 14, '6', 1154133, 1933314, 2016, '02/10/2018 03:50:01 PM', Decimal('41.97284491'), Decimal('-87.70860008'), '(41.972844913, -87.708600079)'),\n (4494340, 'HL793243', '12/16/2005 04:45:00 PM', '005XX E PERSHING RD', '860', 'THEFT', 'RETAIL THEFT', 'GROCERY FOOD STORE', 'TRUE', 'FALSE', 213, 2, 3, 38, '6', 1180448, 1879234, 2005, '02/28/2018 03:56:25 PM', Decimal('41.82387989'), Decimal('-87.61350386'), '(41.823879885, -87.613503857)'),\n (3778925, 'HL149610', '01/28/2005 05:00:00 PM', '100XX S WASHTENAW AVE', '810', 'THEFT', 'OVER $500', 'STREET', 'FALSE', 'FALSE', 2211, 22, 19, 72, '6', 1160129, 1838040, 2005, '02/28/2018 03:56:25 PM', Decimal('41.71128051'), Decimal('-87.68917910'), '(41.711280513, -87.689179097)'),\n (3324217, 'HK361551', '05/13/2004 02:15:00 PM', '033XX W BELMONT AVE', '820', 'THEFT', '$500 AND UNDER', 'SMALL RETAIL STORE', 'FALSE', 'FALSE', 1733, 17, 35, 21, '6', 1153590, 1921084, 2004, '02/28/2018 03:56:25 PM', Decimal('41.93929582'), Decimal('-87.71092344'), '(41.939295821, -87.710923442)')]"
                    }, 
                    "output_type": "execute_result"
                }
            ], 
            "source": "%sql select * from VGF22262.CRIME fetch first 10 rows only"
        }, 
        {
            "source": "### Problem 3\n\n##### How many crimes involve an arrest?", 
            "cell_type": "markdown", 
            "metadata": {}
        }, 
        {
            "execution_count": 5, 
            "cell_type": "code", 
            "metadata": {}, 
            "outputs": [
                {
                    "output_type": "stream", 
                    "name": "stdout", 
                    "text": " * ibm_db_sa://vgf22262:***@dashdb-txn-sbox-yp-dal09-03.services.dal.bluemix.net:50000/BLUDB\nDone.\n"
                }, 
                {
                    "execution_count": 5, 
                    "metadata": {}, 
                    "data": {
                        "text/html": "<table>\n    <tr>\n        <th>crimes_with_arrest</th>\n    </tr>\n    <tr>\n        <td>163</td>\n    </tr>\n</table>", 
                        "text/plain": "[(Decimal('163'),)]"
                    }, 
                    "output_type": "execute_result"
                }
            ], 
            "source": "%sql select count(*) as crimes_with_arrest from VGF22262.CRIME where arrest = True"
        }, 
        {
            "source": "### Problem 4\n\n##### Which unique types of crimes have been recorded at GAS STATION locations?", 
            "cell_type": "markdown", 
            "metadata": {}
        }, 
        {
            "execution_count": 6, 
            "cell_type": "code", 
            "metadata": {}, 
            "outputs": [
                {
                    "output_type": "stream", 
                    "name": "stdout", 
                    "text": " * ibm_db_sa://vgf22262:***@dashdb-txn-sbox-yp-dal09-03.services.dal.bluemix.net:50000/BLUDB\nDone.\n"
                }, 
                {
                    "execution_count": 6, 
                    "metadata": {}, 
                    "data": {
                        "text/html": "<table>\n    <tr>\n        <th>gas_station_crimes</th>\n    </tr>\n    <tr>\n        <td>CRIMINAL TRESPASS</td>\n    </tr>\n    <tr>\n        <td>NARCOTICS</td>\n    </tr>\n    <tr>\n        <td>ROBBERY</td>\n    </tr>\n    <tr>\n        <td>THEFT</td>\n    </tr>\n</table>", 
                        "text/plain": "[('CRIMINAL TRESPASS',), ('NARCOTICS',), ('ROBBERY',), ('THEFT',)]"
                    }, 
                    "output_type": "execute_result"
                }
            ], 
            "source": "%sql select distinct(primary_type) as gas_station_crimes from VGF22262.CRIME where location_description = 'GAS STATION'"
        }, 
        {
            "source": "### Problem 5\n\n##### In the CENSUS table list all Community Areas whose names start with the letter \u2018B\u2019.", 
            "cell_type": "markdown", 
            "metadata": {}
        }, 
        {
            "execution_count": 7, 
            "cell_type": "code", 
            "metadata": {}, 
            "outputs": [
                {
                    "output_type": "stream", 
                    "name": "stdout", 
                    "text": " * ibm_db_sa://vgf22262:***@dashdb-txn-sbox-yp-dal09-03.services.dal.bluemix.net:50000/BLUDB\nDone.\n"
                }, 
                {
                    "execution_count": 7, 
                    "metadata": {}, 
                    "data": {
                        "text/html": "<table>\n    <tr>\n        <th>community_area_number</th>\n        <th>community_area_name</th>\n        <th>percent_of_housing_crowded</th>\n        <th>percent_households_below_poverty</th>\n        <th>percent_aged_16__unemployed</th>\n        <th>percent_aged_25__without_high_school_diploma</th>\n        <th>percent_aged_under_18_or_over_64</th>\n        <th>per_capita_income</th>\n        <th>hardship_index</th>\n    </tr>\n    <tr>\n        <td>19</td>\n        <td>Belmont Cragin</td>\n        <td>10.8</td>\n        <td>18.7</td>\n        <td>14.6</td>\n        <td>37.3</td>\n        <td>37.3</td>\n        <td>15461</td>\n        <td>70</td>\n    </tr>\n    <tr>\n        <td>47</td>\n        <td>Burnside</td>\n        <td>6.8</td>\n        <td>33.0</td>\n        <td>18.6</td>\n        <td>19.3</td>\n        <td>42.7</td>\n        <td>12515</td>\n        <td>79</td>\n    </tr>\n    <tr>\n        <td>58</td>\n        <td>Brighton Park</td>\n        <td>14.4</td>\n        <td>23.6</td>\n        <td>13.9</td>\n        <td>45.1</td>\n        <td>39.3</td>\n        <td>13089</td>\n        <td>84</td>\n    </tr>\n    <tr>\n        <td>60</td>\n        <td>Bridgeport</td>\n        <td>4.5</td>\n        <td>18.9</td>\n        <td>13.7</td>\n        <td>22.2</td>\n        <td>31.3</td>\n        <td>22694</td>\n        <td>43</td>\n    </tr>\n    <tr>\n        <td>72</td>\n        <td>Beverly</td>\n        <td>0.9</td>\n        <td>5.1</td>\n        <td>8.0</td>\n        <td>3.7</td>\n        <td>40.5</td>\n        <td>39523</td>\n        <td>12</td>\n    </tr>\n</table>", 
                        "text/plain": "[(19, 'Belmont Cragin', Decimal('10.8'), Decimal('18.7'), Decimal('14.6'), Decimal('37.3'), Decimal('37.3'), 15461, 70),\n (47, 'Burnside', Decimal('6.8'), Decimal('33.0'), Decimal('18.6'), Decimal('19.3'), Decimal('42.7'), 12515, 79),\n (58, 'Brighton Park', Decimal('14.4'), Decimal('23.6'), Decimal('13.9'), Decimal('45.1'), Decimal('39.3'), 13089, 84),\n (60, 'Bridgeport', Decimal('4.5'), Decimal('18.9'), Decimal('13.7'), Decimal('22.2'), Decimal('31.3'), 22694, 43),\n (72, 'Beverly', Decimal('0.9'), Decimal('5.1'), Decimal('8.0'), Decimal('3.7'), Decimal('40.5'), 39523, 12)]"
                    }, 
                    "output_type": "execute_result"
                }
            ], 
            "source": "%sql select * from VGF22262.CENSUS where community_area_name like 'B%'"
        }, 
        {
            "source": "### Problem 6\n\n##### Which schools in Community Areas 10 to 15 are healthy school certified?", 
            "cell_type": "markdown", 
            "metadata": {}
        }, 
        {
            "execution_count": 8, 
            "cell_type": "code", 
            "metadata": {}, 
            "outputs": [
                {
                    "output_type": "stream", 
                    "name": "stdout", 
                    "text": " * ibm_db_sa://vgf22262:***@dashdb-txn-sbox-yp-dal09-03.services.dal.bluemix.net:50000/BLUDB\nDone.\n"
                }, 
                {
                    "execution_count": 8, 
                    "metadata": {}, 
                    "data": {
                        "text/html": "<table>\n    <tr>\n        <th>name_of_school</th>\n        <th>healthy_school_certified</th>\n    </tr>\n    <tr>\n        <td>Rufus M Hitch Elementary School</td>\n        <td>Yes</td>\n    </tr>\n</table>", 
                        "text/plain": "[('Rufus M Hitch Elementary School', 'Yes')]"
                    }, 
                    "output_type": "execute_result"
                }
            ], 
            "source": "%%sql select name_of_school, healthy_school_certified from VGF22262.SCHOOLS \nwhere healthy_school_certified = 'Yes' AND community_area_number between 10 and 15"
        }, 
        {
            "source": "### Problem 7\n\n##### What is the average school Safety Score? ", 
            "cell_type": "markdown", 
            "metadata": {}
        }, 
        {
            "execution_count": 9, 
            "cell_type": "code", 
            "metadata": {}, 
            "outputs": [
                {
                    "output_type": "stream", 
                    "name": "stdout", 
                    "text": " * ibm_db_sa://vgf22262:***@dashdb-txn-sbox-yp-dal09-03.services.dal.bluemix.net:50000/BLUDB\nDone.\n"
                }, 
                {
                    "execution_count": 9, 
                    "metadata": {}, 
                    "data": {
                        "text/html": "<table>\n    <tr>\n        <th>average_school_safety_score</th>\n    </tr>\n    <tr>\n        <td>49.504873</td>\n    </tr>\n</table>", 
                        "text/plain": "[(Decimal('49.504873'),)]"
                    }, 
                    "output_type": "execute_result"
                }
            ], 
            "source": "%sql select AVG(Safety_Score) AS average_school_safety_score from VGF22262.SCHOOLS"
        }, 
        {
            "source": "### Problem 8\n\n##### List the top 5 Community Areas by average College Enrollment [number of students] ", 
            "cell_type": "markdown", 
            "metadata": {}
        }, 
        {
            "execution_count": 10, 
            "cell_type": "code", 
            "metadata": {}, 
            "outputs": [
                {
                    "output_type": "stream", 
                    "name": "stdout", 
                    "text": " * ibm_db_sa://vgf22262:***@dashdb-txn-sbox-yp-dal09-03.services.dal.bluemix.net:50000/BLUDB\nDone.\n"
                }, 
                {
                    "execution_count": 10, 
                    "metadata": {}, 
                    "data": {
                        "text/html": "<table>\n    <tr>\n        <th>community_area_name</th>\n        <th>average_college_enrollment</th>\n    </tr>\n    <tr>\n        <td>ARCHER HEIGHTS</td>\n        <td>2411.500000</td>\n    </tr>\n    <tr>\n        <td>MONTCLARE</td>\n        <td>1317.000000</td>\n    </tr>\n    <tr>\n        <td>WEST ELSDON</td>\n        <td>1233.333333</td>\n    </tr>\n    <tr>\n        <td>BRIGHTON PARK</td>\n        <td>1205.875000</td>\n    </tr>\n    <tr>\n        <td>BELMONT CRAGIN</td>\n        <td>1198.833333</td>\n    </tr>\n</table>", 
                        "text/plain": "[('ARCHER HEIGHTS', Decimal('2411.500000')),\n ('MONTCLARE', Decimal('1317.000000')),\n ('WEST ELSDON', Decimal('1233.333333')),\n ('BRIGHTON PARK', Decimal('1205.875000')),\n ('BELMONT CRAGIN', Decimal('1198.833333'))]"
                    }, 
                    "output_type": "execute_result"
                }
            ], 
            "source": "%%sql select community_area_name, AVG(college_enrollment) AS average_college_enrollment from VGF22262.SCHOOLS \ngroup by community_area_name order by average_college_enrollment desc limit 5"
        }, 
        {
            "source": "### Problem 9\n\n##### Use a sub-query to determine which Community Area has the least value for school Safety Score? ", 
            "cell_type": "markdown", 
            "metadata": {}
        }, 
        {
            "execution_count": 11, 
            "cell_type": "code", 
            "metadata": {}, 
            "outputs": [
                {
                    "output_type": "stream", 
                    "name": "stdout", 
                    "text": " * ibm_db_sa://vgf22262:***@dashdb-txn-sbox-yp-dal09-03.services.dal.bluemix.net:50000/BLUDB\nDone.\n"
                }, 
                {
                    "execution_count": 11, 
                    "metadata": {}, 
                    "data": {
                        "text/html": "<table>\n    <tr>\n        <th>community_area_name</th>\n    </tr>\n    <tr>\n        <td>WASHINGTON PARK</td>\n    </tr>\n</table>", 
                        "text/plain": "[('WASHINGTON PARK',)]"
                    }, 
                    "output_type": "execute_result"
                }
            ], 
            "source": "%sql select community_area_name from VGF22262.SCHOOLS where safety_score = (select MIN(safety_score) from  VGF22262.SCHOOLS)"
        }, 
        {
            "source": "### Problem 10\n\n##### [Without using an explicit JOIN operator] Find the Per Capita Income of the Community Area which has a school Safety Score of 1.", 
            "cell_type": "markdown", 
            "metadata": {}
        }, 
        {
            "execution_count": 12, 
            "cell_type": "code", 
            "metadata": {}, 
            "outputs": [
                {
                    "output_type": "stream", 
                    "name": "stdout", 
                    "text": " * ibm_db_sa://vgf22262:***@dashdb-txn-sbox-yp-dal09-03.services.dal.bluemix.net:50000/BLUDB\nDone.\n"
                }, 
                {
                    "execution_count": 12, 
                    "metadata": {}, 
                    "data": {
                        "text/html": "<table>\n    <tr>\n        <th>per_capita_income</th>\n    </tr>\n    <tr>\n        <td>13785</td>\n    </tr>\n</table>", 
                        "text/plain": "[(13785,)]"
                    }, 
                    "output_type": "execute_result"
                }
            ], 
            "source": "%%sql select per_capita_income from VGF22262.CENSUS where community_area_number = (select community_area_number \n                                                                                  from VGF22262.SCHOOLS where safety_score = 1)"
        }, 
        {
            "execution_count": null, 
            "cell_type": "code", 
            "metadata": {}, 
            "outputs": [], 
            "source": ""
        }
    ], 
    "metadata": {
        "kernelspec": {
            "display_name": "Python 3.6", 
            "name": "python3", 
            "language": "python"
        }, 
        "language_info": {
            "mimetype": "text/x-python", 
            "nbconvert_exporter": "python", 
            "version": "3.6.8", 
            "name": "python", 
            "file_extension": ".py", 
            "pygments_lexer": "ipython3", 
            "codemirror_mode": {
                "version": 3, 
                "name": "ipython"
            }
        }
    }, 
    "nbformat": 4
}